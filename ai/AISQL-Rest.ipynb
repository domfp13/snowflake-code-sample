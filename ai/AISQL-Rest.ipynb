{
 "cells": [
  {
   "cell_type": "markdown",
   "id": "b49aca23-454c-47b9-8de5-3e3c33f3f483",
   "metadata": {
    "collapsed": false,
    "name": "HEADER"
   },
   "source": [
    "# AI SQL\n",
    "AISQL delivers an easy-to-use composable query language that handles both text and multimodal data through familiar SQL syntax. Our high-performance batch engine processes queries faster through intelligent query optimization, while delivering lower costs than traditional AI solutions. Natively ingest structured and unstructured data into unified multimodal tables, enabling comprehensive insights through familiar SQL analytics for all your data.\n",
    "\n",
    "## AI SQL Benefits:\n",
    "### 1) Easy-to-use SQL syntax to build AI pipelines without complex coding\n",
    "### 2) High-performance processing across all modalities (text, image, audio)\n",
    "### 3) Lower cost batch processing through optimized architecture to support faster and larger batch jobs.\n",
    "\n",
    "\n",
    "## Three Major function calls\n",
    "### AI_FILTER\n",
    "    AI-powered SQL operator for semantic filtering. You can use the same syntax on a single table (for filtering) or join multiple tables together upon a semantic relationship. \n",
    "\n",
    "### AI_AGG/AI_SUMMARIZE_AGG\n",
    "    Advanced functionalities provide unmatched comprehensive analysis across multiple data entries with a user prompt. This method overcomes contextual window constraints, facilitating extensive multi-record examination with no comparable solutions in the market.\n",
    "\n",
    "### AI_CLASSIFY\n",
    "    Functions for easy classification across multi-modal data"
   ]
  },
  {
   "cell_type": "markdown",
   "id": "ada6a840-fd89-44a2-a7ff-a49a08c605e4",
   "metadata": {
    "collapsed": false,
    "name": "Resturant_Review_Header"
   },
   "source": [
    "# Resturant Review Batch Unstructured Processing\n",
    "\n",
    "Snowflake's AI powered functions enable column level operations with LLM like traditional database operators. \n",
    "\n",
    "Image Processing\n",
    "1. Load data into FILE column\n",
    "2. Using COMPLETE(IMAGE) Function to add descriptions for each image\n",
    "3. Using AI_FILTER(IMAGE) and AI_CLASSIFY(IMAGE) to filter/classify accordingly.\n",
    "4. Using AI_FILTER() to join food IMAGE with corresponding text from the food menu."
   ]
  },
  {
   "cell_type": "markdown",
   "id": "98c2dde5-4746-49ba-a636-8c990bb36a87",
   "metadata": {
    "collapsed": false,
    "name": "Import_Libraries_Header"
   },
   "source": [
    "With this import we can run streamlit, pandas, and the snowbook extras python script we imported.  The snowbook extras allows us to view the images in table format below."
   ]
  },
  {
   "cell_type": "code",
   "execution_count": null,
   "id": "6ea10dc3-6e76-47ee-9c17-20f06d832ae5",
   "metadata": {
    "language": "python",
    "name": "Import_libraries"
   },
   "outputs": [],
   "source": [
    "import streamlit as st\n",
    "import pandas as pd"
   ]
  },
  {
   "cell_type": "code",
   "execution_count": null,
   "id": "b4da8292-7cfd-4640-9b09-9af2e352a8f8",
   "metadata": {
    "codeCollapsed": false,
    "language": "sql",
    "name": "cell3"
   },
   "outputs": [],
   "source": [
    "ls @SNOWFLAKE_INTELLIGENCE.PUBLIC.FOODIMAGES;"
   ]
  },
  {
   "cell_type": "code",
   "execution_count": null,
   "id": "31e4cbae-b53c-4349-a140-b9304f0cf5a1",
   "metadata": {
    "codeCollapsed": false,
    "language": "sql",
    "name": "Create_Image_table_SQL"
   },
   "outputs": [],
   "source": [
    "USE DATABASE SNOWFLAKE_INTELLIGENCE;\n",
    "USE SCHEMA SNOWFLAKE_INTELLIGENCE.PUBLIC;\n",
    "\n",
    "create or replace table img_tbl as\n",
    "select to_file(file_url) img_file, * from directory(@FOODIMAGES);"
   ]
  },
  {
   "cell_type": "code",
   "execution_count": null,
   "id": "ede963da-bd49-4e18-a468-f69b8c85d8c7",
   "metadata": {
    "codeCollapsed": false,
    "language": "sql",
    "name": "cell2"
   },
   "outputs": [],
   "source": [
    "SELECT * FROM img_tbl LIMIT 7;"
   ]
  },
  {
   "cell_type": "code",
   "execution_count": null,
   "id": "a543fc85-b6c4-49eb-bc32-cf522d57c281",
   "metadata": {
    "codeCollapsed": false,
    "language": "sql",
    "name": "Review_Image_Table_Desc"
   },
   "outputs": [],
   "source": [
    "desc table img_tbl;"
   ]
  },
  {
   "cell_type": "markdown",
   "id": "5619a5ca-3630-4169-b36f-f8b16cec0a43",
   "metadata": {
    "collapsed": false,
    "name": "Review_Images_Header"
   },
   "source": [
    "Below we can see the file images using our snowbooks_extras.py helper file and see the data we are working with.  You can click the image below to see a larger image"
   ]
  },
  {
   "cell_type": "code",
   "execution_count": null,
   "id": "0ce5e259-c6a6-46df-a034-7396cb34d018",
   "metadata": {
    "language": "sql",
    "name": "Review_Image_Table_SQL"
   },
   "outputs": [],
   "source": [
    "select img_file, file_url, last_modified from img_tbl LIMIT 5;"
   ]
  },
  {
   "cell_type": "markdown",
   "id": "dbbf5697-c50a-4ccc-8f49-8a860fdb638c",
   "metadata": {
    "collapsed": false,
    "name": "HelperFunction_Promp_Header"
   },
   "source": [
    "Below we use a helper function in the cortex complete to prompt to read the image and write an advertisement for the dish in the image."
   ]
  },
  {
   "cell_type": "code",
   "execution_count": null,
   "id": "04ed4c1d-67cb-49b7-87b3-007d664aca6c",
   "metadata": {
    "language": "sql",
    "name": "AISQL_Prompt_SQL"
   },
   "outputs": [],
   "source": [
    "-- test complete(image)\n",
    "\n",
    "CREATE OR REPLACE TABLE IMAGE_TEXT_TBL AS\n",
    "select \n",
    "    img_file,\n",
    "    snowflake.cortex.complete('pixtral-large', prompt('Write me an advertisement tagline for this dish: {0}', img_file)) AS descrip,\n",
    "    file_url,\n",
    "    last_modified\n",
    "from img_tbl;\n",
    "\n",
    "SELECT * FROM IMAGE_TEXT_TBL;"
   ]
  },
  {
   "cell_type": "markdown",
   "id": "e2322cfe-befb-48e8-b5dc-66be7972da90",
   "metadata": {
    "collapsed": false,
    "name": "AIFILTER_isDessert_header"
   },
   "source": [
    "Now we will run a new [AI_FILTER](https://docs.snowflake.com/LIMITEDACCESS/snowflake-cortex/ai_filter) to filter out the images and look only for those that are desserts from our list of images. We want to user AI_FILTER with a prompt to help us tell if the image in the picture is a dessert.  Please edit the code below in the where statement properly use the AI_FILTER"
   ]
  },
  {
   "cell_type": "code",
   "execution_count": null,
   "id": "49d5d6fb-b801-403d-be08-64f326803dde",
   "metadata": {
    "language": "sql",
    "name": "cell5"
   },
   "outputs": [],
   "source": [
    "select * \n",
    "from IMAGE_TEXT_TBL\n",
    "where AI_FILTER(PROMPT('find out if this: {0} is a dessert', descrip));"
   ]
  },
  {
   "cell_type": "code",
   "execution_count": null,
   "id": "3ea89650-a124-428e-8e13-a335dd289ba3",
   "metadata": {
    "codeCollapsed": false,
    "language": "sql",
    "name": "AISQL_AIFILTER_isDessert_SQL"
   },
   "outputs": [],
   "source": [
    "/*select * \n",
    "from (\n",
    "    select \n",
    "        img_file,\n",
    "        snowflake.cortex.complete('pixtral-large', prompt('Write me an advertisement tagline for this dish: {0}', img_file)) AS descrip,\n",
    "        file_url,\n",
    "        last_modified\n",
    "        from img_tbl\n",
    "    )\n",
    "where AI_FILTER(PROMPT('find out if this: {0} is a dessert', descrip));\n",
    "*/\n",
    "SELECT CURRENT_ROLE();"
   ]
  },
  {
   "cell_type": "markdown",
   "id": "721b77b2-a91e-4dde-84bd-627157206b07",
   "metadata": {
    "collapsed": false,
    "name": "AIClassify_Header"
   },
   "source": [
    "Let's further classify these images using [AI_CLASSIFY](https://docs.snowflake.com/LIMITEDACCESS/snowflake-cortex/ai_classify).  We specify what classifications we want in the prompt and ask the GenAI model to break up the images into those classes"
   ]
  },
  {
   "cell_type": "code",
   "execution_count": null,
   "id": "d4b8d20d-bbc7-4d10-acb1-615809b01230",
   "metadata": {
    "codeCollapsed": false,
    "collapsed": false,
    "language": "sql",
    "name": "AISQL_AICLASSIFY_SQL"
   },
   "outputs": [],
   "source": [
    "-- Notice we are passing the image\n",
    "WITH food_pictures AS (\n",
    "  SELECT\n",
    "      *\n",
    "  FROM IMAGE_TEXT_TBL\n",
    ")\n",
    "SELECT\n",
    "    *,\n",
    "    AI_CLASSIFY(IMG_FILE, ['dessert', 'drink', 'main dish', 'side dish']):labels AS classification\n",
    "FROM food_pictures;"
   ]
  },
  {
   "cell_type": "markdown",
   "id": "44bbce3e-3381-402e-8576-52315b1b99d2",
   "metadata": {
    "collapsed": false,
    "name": "AI_FILTER_Header"
   },
   "source": [
    "Now we can filter those reviews using [AI_FILTER](https://docs.snowflake.com/LIMITEDACCESS/snowflake-cortex/ai_filter-snowflake-cortex) on the context we added previously and look for reviews that mentioned a special occasion like a birthday or other"
   ]
  }
 ],
 "metadata": {
  "kernelspec": {
   "display_name": "Streamlit Notebook",
   "name": "streamlit"
  },
  "lastEditStatus": {
   "authorEmail": "enrique.plata@snowflake.com",
   "authorId": "1373231093310",
   "authorName": "ENRIQUEP",
   "lastEditTime": 1756982560659,
   "notebookId": "cxp6ynoay3fld24wdc6q",
   "sessionId": "23edb013-5491-43e2-9575-201a24121017"
  }
 },
 "nbformat": 4,
 "nbformat_minor": 5
}
